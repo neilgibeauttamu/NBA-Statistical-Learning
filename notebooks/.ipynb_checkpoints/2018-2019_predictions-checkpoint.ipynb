{
 "cells": [
  {
   "cell_type": "code",
   "execution_count": 1,
   "metadata": {},
   "outputs": [],
   "source": [
    "# Import Cell\n",
    "\n",
    "import pandas as pd\n",
    "import datetime\n",
    "import pprint as pp\n",
    "from sklearn.linear_model import LogisticRegression\n",
    "from sklearn.linear_model import LinearRegression\n",
    "from sklearn.metrics import mean_squared_error\n",
    "from sklearn.metrics import accuracy_score\n",
    "from sklearn.model_selection import cross_val_score\n",
    "from sklearn.model_selection import train_test_split\n",
    "from sklearn.tree import DecisionTreeClassifier\n",
    "from sklearn.model_selection import StratifiedKFold\n",
    "from sklearn.ensemble import RandomForestClassifier\n",
    "from sklearn.ensemble import AdaBoostClassifier\n",
    "from scipy import stats\n",
    "from sklearn.metrics import r2_score\n",
    "import numpy as np\n",
    "from datetime import datetime\n",
    "date_format = \"%Y-%m-%d\"\n",
    "from tqdm import tqdm\n",
    "from sklearn.svm import SVC\n",
    "import matplotlib.pyplot as plt"
   ]
  },
  {
   "cell_type": "code",
   "execution_count": 87,
   "metadata": {
    "scrolled": true
   },
   "outputs": [
    {
     "name": "stdout",
     "output_type": "stream",
     "text": [
      "['2018-11-25', '2018-11-23', '2018-11-20', '2018-11-19', '2018-11-18', '2018-11-17', '2018-11-14', '2018-11-11', '2018-11-09', '2018-11-08', '2018-11-07', '2018-11-06', '2018-11-05', '2018-11-04', '2018-11-02', '2018-10-31', '2018-10-30', '2018-10-27', '2018-10-25', '2018-10-24', '2018-10-23', '2018-10-22', '2018-10-20', '2018-10-19', '2018-10-17']\n"
     ]
    }
   ],
   "source": [
    "# Data Prep\n",
    "\n",
    "df = pd.read_csv('../data/outputs/2018-2019_net_rating_v2.csv')\n",
    "df1 = pd.read_csv('../data/outputs/2018-2019_win_percentage.csv')\n",
    "df1 = df1.dropna()\n",
    "df = pd.merge(df, df1, on=['CURRENT_GAME_ID'])\n",
    "\n",
    "# Normalize\n",
    "game_id = df[['CURRENT_GAME_ID', 'TEAM_NAME_AWAY', 'TEAM_NAME_HOME', 'GAME_DATE_EST', \"WIN_HOME\"]]\n",
    "df_norm = df.drop(['CURRENT_GAME_ID', 'TEAM_NAME_AWAY', 'TEAM_NAME_HOME', 'GAME_DATE_EST', 'WIN_HOME'],axis=1)\n",
    "df_norm = (df_norm - df_norm.mean()) / (df_norm.max() - df_norm.min())\n",
    "df_norm = pd.concat([game_id, df_norm], axis=1)\n",
    "df = df_norm.drop_duplicates()\n",
    "\n",
    "# Full Season\n",
    "date_list = sorted(list(df[\"GAME_DATE_EST\"][0:40].drop_duplicates()),reverse=True)\n",
    "print(date_list)\n",
    "# Fraction of Season\n",
    "#date_list = list(df[\"GAME_DATE_EST\"][0:400].drop_duplicates())\n",
    "\n",
    "# Date training data extends back to\n",
    "train_end_val = \"2018-01-28\"\n",
    "\n",
    "temp = pd.get_dummies(df[['TEAM_NAME_AWAY']])\n",
    "df = df.drop(columns=['TEAM_NAME_AWAY'])\n",
    "df = pd.concat([df, temp], axis=1)\n",
    "\n",
    "temp = pd.get_dummies(df[['TEAM_NAME_HOME']])\n",
    "df = df.drop(columns=['TEAM_NAME_HOME'])\n",
    "df = pd.concat([df, temp], axis=1)\n",
    "df = df.drop(['CURRENT_GAME_ID'],axis=1)\n",
    "df = df.drop_duplicates()"
   ]
  },
  {
   "cell_type": "code",
   "execution_count": 3,
   "metadata": {},
   "outputs": [],
   "source": [
    "# Functions\n",
    "\n",
    "def executeCLF(clf, x_train, y_train, x_test, y_test):\n",
    "    test_preds = clf.predict(x_test.values)\n",
    "    train_preds = clf.predict(x_train.values)\n",
    "    return pd.DataFrame({'PREDICTION': test_preds}), accuracy_score(y_test, test_preds)\n",
    "\n",
    "def printDetailedPreds(preds_df, y_test):\n",
    "    detailed_preds = pd.concat([preds_df.reset_index(drop=True), y_test.reset_index(drop=True)])\n",
    "    return detailed_preds"
   ]
  },
  {
   "cell_type": "code",
   "execution_count": 99,
   "metadata": {
    "scrolled": true
   },
   "outputs": [
    {
     "name": "stderr",
     "output_type": "stream",
     "text": [
      "100%|██████████| 25/25 [00:00<00:00, 103.19it/s]"
     ]
    },
    {
     "name": "stdout",
     "output_type": "stream",
     "text": [
      "\n",
      "Results for Logistic Regression model:\n",
      "0.6725619834710744\n"
     ]
    },
    {
     "name": "stderr",
     "output_type": "stream",
     "text": [
      "\n"
     ]
    }
   ],
   "source": [
    "# Predicting one day at a time - Logistic Regression\n",
    "accuracies = []\n",
    "games_per_day = []\n",
    "total_games = 0\n",
    "\n",
    "# These were selected in our other notebook through backwards greedy selection\n",
    "selected_features = ['NET_RTG_HOME', 'NET_RTG_AWAY', 'WIN_PERCENTAGE_A',\n",
    "                     'WIN_PERCENTAGE_B','EXPERT_RANK_HOME','EXPERT_RANK_AWAY']\n",
    "\n",
    "for date in tqdm(date_list):\n",
    "    test_end = int(df.index[df['GAME_DATE_EST'] == date][-1])\n",
    "    test_start = int(df.index[df['GAME_DATE_EST'] == date][0])\n",
    "    train_end = int(df.index[df['GAME_DATE_EST'] == train_end_val][-1])\n",
    "    train_start = int(df.index[df['GAME_DATE_EST'] == date][-1] + 1)\n",
    "    \n",
    "    games = test_end - test_start\n",
    "    total_games += games\n",
    "    games_per_day.append(games)\n",
    "    \n",
    "    temp = df['GAME_DATE_EST']\n",
    "    df = df.drop(['GAME_DATE_EST'],axis=1)\n",
    "    \n",
    "    y = df['WIN_HOME']\n",
    "    x = df[selected_features]\n",
    "    #x = df.drop(columns=['WIN_HOME'])\n",
    "    \n",
    "    if test_start == test_end:\n",
    "        x_train, x_test = x.iloc[train_start:train_end], x.iloc[[test_start]]\n",
    "        y_train, y_test = y.iloc[train_start:train_end], y.iloc[[test_start]]\n",
    "    elif train_start == train_end:\n",
    "        x_train, x_test = x.iloc[[train_start]], x.iloc[test_start:test_end]\n",
    "        y_train, y_test = y.iloc[[train_start]], y.iloc[test_start:test_end]\n",
    "    else:\n",
    "        x_train, x_test = x.iloc[train_start:train_end], x.iloc[test_start:test_end]\n",
    "        y_train, y_test = y.iloc[train_start:train_end], y.iloc[test_start:test_end]\n",
    "    \n",
    "    rf_reg = LogisticRegression(solver='lbfgs').fit(x_train.values, y_train.values)\n",
    "\n",
    "    rf_preds_df, accuracy = executeCLF(rf_reg, x_train, y_train, x_test, y_test)\n",
    "    accuracies.append(accuracy * games)\n",
    "        \n",
    "    df[\"GAME_DATE_EST\"] = temp\n",
    "\n",
    "print(\"\\nResults for Logistic Regression model:\") \n",
    "print(np.sum(accuracies)/total_games)\n",
    "\n"
   ]
  },
  {
   "cell_type": "code",
   "execution_count": 5,
   "metadata": {},
   "outputs": [
    {
     "data": {
      "image/png": "[encoded data removed]",
      "text/plain": [
       "<Figure size 432x288 with 1 Axes>"
      ]
     },
     "metadata": {
      "needs_background": "light"
     },
     "output_type": "display_data"
    }
   ],
   "source": [
    "# Make Accuracy Graph\n",
    "plt.title(\"Logistic Regression Accuracy by Day\")\n",
    "plt.xlabel(\"Day\")\n",
    "plt.ylabel(\"Accuracy by Day\")\n",
    "plt.axis([0, len(games_per_day) , 0, 1 ])\n",
    "plt.plot(np.array(accuracies)/np.array(games_per_day), label=\"Accuracy by Day\")\n",
    "plt.legend()\n",
    "plt.grid(True)\n",
    "\n",
    "accuracies = accuracies[::-1]\n",
    "games_per_day = games_per_day[::-1]\n",
    "cum_acc = np.cumsum(np.array(accuracies))/np.cumsum(np.array(games_per_day))\n",
    "plt.title(\"Cumulative Logistic Regression Accuracy\")\n",
    "plt.xlabel(\"Day\")\n",
    "plt.ylabel(\"Accuracy\")\n",
    "plt.axis([0, len(games_per_day) , 0, 1 ])\n",
    "plt.plot(cum_acc, label=\"Cumulative Accuracy\")\n",
    "plt.legend()\n",
    "plt.grid(True)\n"
   ]
  },
  {
   "cell_type": "code",
   "execution_count": 89,
   "metadata": {},
   "outputs": [
    {
     "name": "stderr",
     "output_type": "stream",
     "text": [
      "100%|██████████| 25/25 [00:03<00:00,  7.94it/s]"
     ]
    },
    {
     "name": "stdout",
     "output_type": "stream",
     "text": [
      "\n",
      "Results for Random Forest model:\n",
      "0.6603305785123967\n"
     ]
    },
    {
     "name": "stderr",
     "output_type": "stream",
     "text": [
      "\n"
     ]
    }
   ],
   "source": [
    "# Predicting one day at a time - Random Forest\n",
    "accuracies = []\n",
    "games_per_day = []\n",
    "total_games = 0\n",
    "for date in tqdm(date_list):\n",
    "    test_end = int(df.index[df['GAME_DATE_EST'] == date][-1])\n",
    "    test_start = int(df.index[df['GAME_DATE_EST'] == date][0])\n",
    "    train_end = int(df.index[df['GAME_DATE_EST'] == train_end_val][-1])\n",
    "    train_start = int(df.index[df['GAME_DATE_EST'] == date][-1] + 1)\n",
    "    \n",
    "    games = test_end - test_start\n",
    "    total_games += games\n",
    "    games_per_day.append(games)\n",
    "    \n",
    "    temp = df['GAME_DATE_EST']\n",
    "    df = df.drop(['GAME_DATE_EST'],axis=1)\n",
    "    \n",
    "    y = df['WIN_HOME']\n",
    "    x = df.drop(columns=['WIN_HOME'])\n",
    "    \n",
    "    if test_start == test_end:\n",
    "        x_train, x_test = x.iloc[train_start:train_end], x.iloc[[test_start]]\n",
    "        y_train, y_test = y.iloc[train_start:train_end], y.iloc[[test_start]]\n",
    "    elif train_start == train_end:\n",
    "        x_train, x_test = x.iloc[[train_start]], x.iloc[test_start:test_end]\n",
    "        y_train, y_test = y.iloc[[train_start]], y.iloc[test_start:test_end]\n",
    "    else:\n",
    "        x_train, x_test = x.iloc[train_start:train_end], x.iloc[test_start:test_end]\n",
    "        y_train, y_test = y.iloc[train_start:train_end], y.iloc[test_start:test_end]\n",
    "    \n",
    "    #rf_reg = LogisticRegression(solver='lbfgs')\n",
    "    #rf_reg = AdaBoostClassifier(n_estimators=20)\n",
    "    rf_reg = RandomForestClassifier(n_estimators=100, max_depth=11).fit(x_train.values, y_train.values)\n",
    "\n",
    "    rf_preds_df, accuracy = executeCLF(rf_reg, x_train, y_train, x_test, y_test)\n",
    "    accuracies.append(accuracy * games)\n",
    "        \n",
    "    df[\"GAME_DATE_EST\"] = temp\n",
    "\n",
    "print(\"\\nResults for Random Forest model:\") \n",
    "print(np.sum(accuracies)/total_games)"
   ]
  },
  {
   "cell_type": "code",
   "execution_count": 7,
   "metadata": {},
   "outputs": [
    {
     "data": {
      "image/png": "[encoded data removed]",
      "text/plain": [
       "<Figure size 432x288 with 1 Axes>"
      ]
     },
     "metadata": {
      "needs_background": "light"
     },
     "output_type": "display_data"
    }
   ],
   "source": [
    "plt.title(\"Logistic Regression Accuracy by Day\")\n",
    "plt.xlabel(\"Day\")\n",
    "plt.ylabel(\"Accuracy by Day\")\n",
    "plt.axis([0, len(games_per_day) , 0, 1 ])\n",
    "plt.plot(np.array(accuracies)/np.array(games_per_day), label=\"Accuracy by Day\")\n",
    "plt.legend()\n",
    "plt.grid(True)\n",
    "\n",
    "accuracies = accuracies[::-1]\n",
    "games_per_day = games_per_day[::-1]\n",
    "cum_acc = np.cumsum(np.array(accuracies))/np.cumsum(np.array(games_per_day))\n",
    "plt.title(\"Cumulative Logistic Regression Accuracy\")\n",
    "plt.xlabel(\"Day\")\n",
    "plt.ylabel(\"Accuracy\")\n",
    "plt.axis([0, len(games_per_day) , 0, 1 ])\n",
    "plt.plot(cum_acc, label=\"Cumulative Accuracy\")\n",
    "plt.legend()\n",
    "plt.grid(True)"
   ]
  },
  {
   "cell_type": "code",
   "execution_count": 90,
   "metadata": {},
   "outputs": [
    {
     "name": "stderr",
     "output_type": "stream",
     "text": [
      "100%|██████████| 25/25 [00:00<00:00, 44.56it/s]"
     ]
    },
    {
     "name": "stdout",
     "output_type": "stream",
     "text": [
      "\n",
      "Results AdaBoost model:\n",
      "0.6398347107438016\n"
     ]
    },
    {
     "name": "stderr",
     "output_type": "stream",
     "text": [
      "\n"
     ]
    }
   ],
   "source": [
    "# Predicting one day at a time - Random Forest\n",
    "accuracies = []\n",
    "games_per_day = []\n",
    "total_games = 0\n",
    "for date in tqdm(date_list):\n",
    "    test_end = int(df.index[df['GAME_DATE_EST'] == date][-1])\n",
    "    test_start = int(df.index[df['GAME_DATE_EST'] == date][0])\n",
    "    train_end = int(df.index[df['GAME_DATE_EST'] == train_end_val][-1])\n",
    "    train_start = int(df.index[df['GAME_DATE_EST'] == date][-1] + 1)\n",
    "    \n",
    "    games = test_end - test_start\n",
    "    total_games += games\n",
    "    games_per_day.append(games)\n",
    "    \n",
    "    temp = df['GAME_DATE_EST']\n",
    "    df = df.drop(['GAME_DATE_EST'],axis=1)\n",
    "    \n",
    "    y = df['WIN_HOME']\n",
    "    x = df.drop(columns=['WIN_HOME'])\n",
    "    \n",
    "    if test_start == test_end:\n",
    "        x_train, x_test = x.iloc[train_start:train_end], x.iloc[[test_start]]\n",
    "        y_train, y_test = y.iloc[train_start:train_end], y.iloc[[test_start]]\n",
    "    elif train_start == train_end:\n",
    "        x_train, x_test = x.iloc[[train_start]], x.iloc[test_start:test_end]\n",
    "        y_train, y_test = y.iloc[[train_start]], y.iloc[test_start:test_end]\n",
    "    else:\n",
    "        x_train, x_test = x.iloc[train_start:train_end], x.iloc[test_start:test_end]\n",
    "        y_train, y_test = y.iloc[train_start:train_end], y.iloc[test_start:test_end]\n",
    "    \n",
    "    #rf_reg = LogisticRegression(solver='lbfgs')\n",
    "    rf_reg = AdaBoostClassifier(n_estimators=10).fit(x_train.values, y_train.values)\n",
    "    #rf_reg = RandomForestClassifier(n_estimators=20, max_depth=11)\n",
    "\n",
    "    rf_preds_df, accuracy = executeCLF(rf_reg, x_train, y_train, x_test, y_test)\n",
    "    accuracies.append(accuracy * games)\n",
    "        \n",
    "    df[\"GAME_DATE_EST\"] = temp\n",
    "\n",
    "print(\"\\nResults AdaBoost model:\") \n",
    "print(np.sum(accuracies)/total_games)"
   ]
  },
  {
   "cell_type": "code",
   "execution_count": 9,
   "metadata": {},
   "outputs": [
    {
     "data": {
      "image/png": "[encoded data removed]",
      "text/plain": [
       "<Figure size 432x288 with 1 Axes>"
      ]
     },
     "metadata": {
      "needs_background": "light"
     },
     "output_type": "display_data"
    }
   ],
   "source": [
    "plt.title(\"Logistic Regression Accuracy by Day\")\n",
    "plt.xlabel(\"Day\")\n",
    "plt.ylabel(\"Accuracy by Day\")\n",
    "plt.axis([0, len(games_per_day) , 0, 1 ])\n",
    "plt.plot(np.array(accuracies)/np.array(games_per_day), label=\"Accuracy by Day\")\n",
    "plt.legend()\n",
    "plt.grid(True)\n",
    "\n",
    "accuracies = accuracies[::-1]\n",
    "games_per_day = games_per_day[::-1]\n",
    "cum_acc = np.cumsum(np.array(accuracies))/np.cumsum(np.array(games_per_day))\n",
    "plt.title(\"Cumulative Logistic Regression Accuracy\")\n",
    "plt.xlabel(\"Day\")\n",
    "plt.ylabel(\"Accuracy\")\n",
    "plt.axis([0, len(games_per_day) , 0, 1 ])\n",
    "plt.plot(cum_acc, label=\"Cumulative Accuracy\")\n",
    "plt.legend()\n",
    "plt.grid(True)"
   ]
  },
  {
   "cell_type": "code",
   "execution_count": 91,
   "metadata": {},
   "outputs": [
    {
     "name": "stderr",
     "output_type": "stream",
     "text": [
      "100%|██████████| 25/25 [00:04<00:00,  5.76it/s]"
     ]
    },
    {
     "name": "stdout",
     "output_type": "stream",
     "text": [
      "\n",
      "Results SVC model:\n",
      "0.6861157024793388\n"
     ]
    },
    {
     "name": "stderr",
     "output_type": "stream",
     "text": [
      "\n"
     ]
    }
   ],
   "source": [
    "# Predicting one day at a time - Random Forest\n",
    "accuracies = []\n",
    "games_per_day = []\n",
    "total_games = 0\n",
    "for date in tqdm(date_list):\n",
    "    test_end = int(df.index[df['GAME_DATE_EST'] == date][-1])\n",
    "    test_start = int(df.index[df['GAME_DATE_EST'] == date][0])\n",
    "    train_end = int(df.index[df['GAME_DATE_EST'] == train_end_val][-1])\n",
    "    train_start = int(df.index[df['GAME_DATE_EST'] == date][-1] + 1)\n",
    "    \n",
    "    games = test_end - test_start\n",
    "    total_games += games\n",
    "    games_per_day.append(games)\n",
    "    \n",
    "    temp = df['GAME_DATE_EST']\n",
    "    df = df.drop(['GAME_DATE_EST'],axis=1)\n",
    "    \n",
    "    y = df['WIN_HOME']\n",
    "    x = df.drop(columns=['WIN_HOME'])\n",
    "    \n",
    "    if test_start == test_end:\n",
    "        x_train, x_test = x.iloc[train_start:train_end], x.iloc[[test_start]]\n",
    "        y_train, y_test = y.iloc[train_start:train_end], y.iloc[[test_start]]\n",
    "    elif train_start == train_end:\n",
    "        x_train, x_test = x.iloc[[train_start]], x.iloc[test_start:test_end]\n",
    "        y_train, y_test = y.iloc[[train_start]], y.iloc[test_start:test_end]\n",
    "    else:\n",
    "        x_train, x_test = x.iloc[train_start:train_end], x.iloc[test_start:test_end]\n",
    "        y_train, y_test = y.iloc[train_start:train_end], y.iloc[test_start:test_end]\n",
    "    \n",
    "    svc = SVC(gamma='auto').fit(x_train.values, y_train.values)\n",
    "\n",
    "    rf_preds_df, accuracy = executeCLF(svc, x_train, y_train, x_test, y_test)\n",
    "    accuracies.append(accuracy * games)\n",
    "        \n",
    "    df[\"GAME_DATE_EST\"] = temp\n",
    "\n",
    "print(\"\\nResults SVC model:\") \n",
    "print(np.sum(accuracies)/total_games)"
   ]
  },
  {
   "cell_type": "code",
   "execution_count": 11,
   "metadata": {},
   "outputs": [
    {
     "data": {
      "image/png": "[encoded data removed]",
      "text/plain": [
       "<Figure size 432x288 with 1 Axes>"
      ]
     },
     "metadata": {
      "needs_background": "light"
     },
     "output_type": "display_data"
    }
   ],
   "source": [
    "plt.title(\"Logistic Regression Accuracy by Day\")\n",
    "plt.xlabel(\"Day\")\n",
    "plt.ylabel(\"Accuracy by Day\")\n",
    "plt.axis([0, len(games_per_day) , 0, 1 ])\n",
    "plt.plot(np.array(accuracies)/np.array(games_per_day), label=\"Accuracy by Day\")\n",
    "plt.legend()\n",
    "plt.grid(True)\n",
    "\n",
    "accuracies = accuracies[::-1]\n",
    "games_per_day = games_per_day[::-1]\n",
    "cum_acc = np.cumsum(np.array(accuracies))/np.cumsum(np.array(games_per_day))\n",
    "plt.title(\"Cumulative Logistic Regression Accuracy\")\n",
    "plt.xlabel(\"Day\")\n",
    "plt.ylabel(\"Accuracy\")\n",
    "plt.axis([0, len(games_per_day) , 0, 1 ])\n",
    "plt.plot(cum_acc, label=\"Cumulative Accuracy\")\n",
    "plt.legend()\n",
    "plt.grid(True)"
   ]
  }
 ],
 "metadata": {
  "kernelspec": {
   "display_name": "Python 3",
   "language": "python",
   "name": "python3"
  },
  "language_info": {
   "codemirror_mode": {
    "name": "ipython",
    "version": 3
   },
   "file_extension": ".py",
   "mimetype": "text/x-python",
   "name": "python",
   "nbconvert_exporter": "python",
   "pygments_lexer": "ipython3",
   "version": "3.5.2"
  }
 },
 "nbformat": 4,
 "nbformat_minor": 2
}
