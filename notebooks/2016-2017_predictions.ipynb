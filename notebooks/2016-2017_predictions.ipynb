{
 "cells": [
  {
   "cell_type": "code",
   "execution_count": 1,
   "metadata": {},
   "outputs": [],
   "source": [
    "# Import Cell\n",
    "\n",
    "import pandas as pd\n",
    "import datetime\n",
    "import pprint as pp\n",
    "from sklearn.linear_model import LogisticRegression\n",
    "from sklearn.linear_model import LinearRegression\n",
    "from sklearn.metrics import mean_squared_error\n",
    "from sklearn.metrics import accuracy_score\n",
    "from sklearn.model_selection import cross_val_score\n",
    "from sklearn.model_selection import train_test_split\n",
    "from sklearn.tree import DecisionTreeClassifier\n",
    "from sklearn.model_selection import StratifiedKFold\n",
    "from sklearn.ensemble import RandomForestClassifier\n",
    "from sklearn.ensemble import AdaBoostClassifier\n",
    "from scipy import stats\n",
    "from sklearn.metrics import r2_score\n",
    "import numpy as np\n",
    "from datetime import datetime\n",
    "date_format = \"%Y-%m-%d\"\n",
    "from tqdm import tqdm\n",
    "from sklearn.svm import SVC\n",
    "import matplotlib.pyplot as plt"
   ]
  },
  {
   "cell_type": "code",
   "execution_count": 2,
   "metadata": {
    "scrolled": true
   },
   "outputs": [],
   "source": [
    "# Data Prep\n",
    "\n",
    "df = pd.read_csv('../data/outputs/final_norm.csv')\n",
    "df1 = pd.read_csv('../data/outputs/ranks.csv')\n",
    "game_id = df1[['GAME_ID_HOME']]\n",
    "\n",
    "df1_norm = df1.drop(['GAME_ID_HOME'],axis=1)\n",
    "df1_norm = (df1_norm - df1_norm.mean()) / (df1_norm.max() - df1_norm.min())\n",
    "df1 = pd.concat([game_id, df1_norm], axis=1)\n",
    "df = pd.merge(df, df1, left_on=['CURRENT_GAME_ID'], right_on=['GAME_ID_HOME'])\n",
    "df = df.drop_duplicates()\n",
    "\n",
    "# train_start_date = datetime.strptime(\"2016-10-26\", date_format)\n",
    "# train_end_date = datetime.strptime(\"2017-10-17\", date_format)\n",
    "# test_date = datetime.strptime(\"2017-10-18\", date_format)\n",
    "\n",
    "# List of dates with games to predict\n",
    "\n",
    "# Full Season\n",
    "#date_list = list(df[\"GAME_DATE_EST\"][1230:2430].drop_duplicates())\n",
    "\n",
    "# Half Season\n",
    "date_list = list(df[\"GAME_DATE_EST\"][1230:1630].drop_duplicates())\n",
    "\n",
    "# End date of training data\n",
    "train_end_val = \"2015-10-28\"\n",
    "\n",
    "test_end_index = int(df.index[df['GAME_DATE_EST'] == \"2018-04-10\"][-1])\n",
    "test_start_index = int(df.index[df['GAME_DATE_EST'] == \"2018-04-10\"][0])\n",
    "train_end_index = int(df.index[df['GAME_DATE_EST'] == \"2016-10-26\"][-1])\n",
    "train_start_index = int(df.index[df['GAME_DATE_EST'] == \"2018-04-10\"][0])\n",
    "\n",
    "temp = pd.get_dummies(df[['TEAM_NAME_AWAY']])\n",
    "df = df.drop(columns=['TEAM_NAME_AWAY'])\n",
    "df = pd.concat([df, temp], axis=1)\n",
    "\n",
    "temp = pd.get_dummies(df[['TEAM_NAME_HOME']])\n",
    "df = df.drop(columns=['TEAM_NAME_HOME'])\n",
    "df = pd.concat([df, temp], axis=1)\n",
    "df = df.drop(['CURRENT_GAME_ID', 'GAME_ID_HOME'],axis=1)"
   ]
  },
  {
   "cell_type": "code",
   "execution_count": 3,
   "metadata": {},
   "outputs": [],
   "source": [
    "# Functions\n",
    "\n",
    "def executeCLF(clf, x_train, y_train, x_test, y_test):\n",
    "    test_preds = clf.predict(x_test.values)\n",
    "    train_preds = clf.predict(x_train.values)\n",
    "    return pd.DataFrame({'PREDICTION': test_preds}), accuracy_score(y_test, test_preds)\n",
    "\n",
    "def printDetailedPreds(preds_df, y_test):\n",
    "    detailed_preds = pd.concat([preds_df.reset_index(drop=True), y_test.reset_index(drop=True)])\n",
    "    return detailed_preds"
   ]
  },
  {
   "cell_type": "code",
   "execution_count": 4,
   "metadata": {
    "scrolled": true
   },
   "outputs": [
    {
     "name": "stderr",
     "output_type": "stream",
     "text": [
      "100%|██████████| 54/54 [00:01<00:00, 42.51it/s]"
     ]
    },
    {
     "name": "stdout",
     "output_type": "stream",
     "text": [
      "\n",
      "Results for Logistic Regression model:\n",
      "0.6318681318681318\n"
     ]
    },
    {
     "name": "stderr",
     "output_type": "stream",
     "text": [
      "\n"
     ]
    }
   ],
   "source": [
    "# Predicting one day at a time - Logistic Regression\n",
    "accuracies = []\n",
    "games_per_day = []\n",
    "total_games = 0\n",
    "\n",
    "# These were selected in our other notebook through backwards greedy selection\n",
    "selected_features = ['NET_RTG_HOME', 'NET_RTG_AWAY', 'WIN_PERCENTAGE_A',\n",
    "                     'WIN_PERCENTAGE_B','DAYS_SINCE_LAST_GAME_A', 'DAYS_SINCE_LAST_GAME_B',\n",
    "                     'EXPERT_RANK_HOME','EXPERT_RANK_AWAY']\n",
    "\n",
    "for date in tqdm(date_list):\n",
    "    test_end = int(df.index[df['GAME_DATE_EST'] == date][-1])\n",
    "    test_start = int(df.index[df['GAME_DATE_EST'] == date][0])\n",
    "    train_end = int(df.index[df['GAME_DATE_EST'] == train_end_val][-1])\n",
    "    train_start = int(df.index[df['GAME_DATE_EST'] == date][-1] + 1)\n",
    "    \n",
    "    games = test_end - test_start\n",
    "    total_games += games\n",
    "    games_per_day.append(games)\n",
    "    \n",
    "    temp = df['GAME_DATE_EST']\n",
    "    df = df.drop(['GAME_DATE_EST'],axis=1)\n",
    "    \n",
    "    y = df['WIN_HOME']\n",
    "    x = df[selected_features]\n",
    "    #x = df.drop(columns=['WIN_HOME'])\n",
    "    \n",
    "    if test_start == test_end:\n",
    "        x_train, x_test = x.iloc[train_start:train_end], x.iloc[[test_start]]\n",
    "        y_train, y_test = y.iloc[train_start:train_end], y.iloc[[test_start]]\n",
    "    elif train_start == train_end:\n",
    "        x_train, x_test = x.iloc[[train_start]], x.iloc[test_start:test_end]\n",
    "        y_train, y_test = y.iloc[[train_start]], y.iloc[test_start:test_end]\n",
    "    else:\n",
    "        x_train, x_test = x.iloc[train_start:train_end], x.iloc[test_start:test_end]\n",
    "        y_train, y_test = y.iloc[train_start:train_end], y.iloc[test_start:test_end]\n",
    "    \n",
    "    rf_reg = LogisticRegression(solver='lbfgs').fit(x_train.values, y_train.values)\n",
    "\n",
    "    rf_preds_df, accuracy = executeCLF(rf_reg, x_train, y_train, x_test, y_test)\n",
    "    accuracies.append(accuracy * games)\n",
    "        \n",
    "    df[\"GAME_DATE_EST\"] = temp\n",
    "\n",
    "print(\"\\nResults for Logistic Regression model:\") \n",
    "print(np.sum(accuracies)/total_games)\n",
    "\n"
   ]
  },
  {
   "cell_type": "code",
   "execution_count": 5,
   "metadata": {},
   "outputs": [],
   "source": [
    "#print(np.array(accuracies)/np.array(games_per_day))\n",
    "\n",
    "# # Make Error Graph\n",
    "# plt.title(\"Logistic Regression Accuracy by Day\")\n",
    "# plt.xlabel(\"Day\")\n",
    "# plt.ylabel(\"Accuracy\")\n",
    "# plt.axis([0, 100 , 0, 1 ])\n",
    "# plt.plot(np.array(accuracies)/np.array(games_per_day), label=\"Train Error\")\n",
    "# plt.legend()\n",
    "# plt.grid(True)\n"
   ]
  },
  {
   "cell_type": "code",
   "execution_count": 6,
   "metadata": {},
   "outputs": [
    {
     "name": "stderr",
     "output_type": "stream",
     "text": [
      "100%|██████████| 54/54 [00:14<00:00,  4.09it/s]"
     ]
    },
    {
     "name": "stdout",
     "output_type": "stream",
     "text": [
      "\n",
      "Results for Random Forest model:\n",
      "0.6428571428571429\n"
     ]
    },
    {
     "name": "stderr",
     "output_type": "stream",
     "text": [
      "\n"
     ]
    }
   ],
   "source": [
    "# Predicting one day at a time - Random Forest\n",
    "accuracies = []\n",
    "games_per_day = []\n",
    "total_games = 0\n",
    "for date in tqdm(date_list):\n",
    "    test_end = int(df.index[df['GAME_DATE_EST'] == date][-1])\n",
    "    test_start = int(df.index[df['GAME_DATE_EST'] == date][0])\n",
    "    train_end = int(df.index[df['GAME_DATE_EST'] == train_end_val][-1])\n",
    "    train_start = int(df.index[df['GAME_DATE_EST'] == date][-1] + 1)\n",
    "    \n",
    "    games = test_end - test_start\n",
    "    total_games += games\n",
    "    games_per_day.append(games)\n",
    "    \n",
    "    temp = df['GAME_DATE_EST']\n",
    "    df = df.drop(['GAME_DATE_EST'],axis=1)\n",
    "    \n",
    "    y = df['WIN_HOME']\n",
    "    x = df.drop(columns=['WIN_HOME'])\n",
    "    \n",
    "    if test_start == test_end:\n",
    "        x_train, x_test = x.iloc[train_start:train_end], x.iloc[[test_start]]\n",
    "        y_train, y_test = y.iloc[train_start:train_end], y.iloc[[test_start]]\n",
    "    elif train_start == train_end:\n",
    "        x_train, x_test = x.iloc[[train_start]], x.iloc[test_start:test_end]\n",
    "        y_train, y_test = y.iloc[[train_start]], y.iloc[test_start:test_end]\n",
    "    else:\n",
    "        x_train, x_test = x.iloc[train_start:train_end], x.iloc[test_start:test_end]\n",
    "        y_train, y_test = y.iloc[train_start:train_end], y.iloc[test_start:test_end]\n",
    "    \n",
    "    #rf_reg = LogisticRegression(solver='lbfgs')\n",
    "    #rf_reg = AdaBoostClassifier(n_estimators=20)\n",
    "    rf_reg = RandomForestClassifier(n_estimators=100, max_depth=8).fit(x_train.values, y_train.values)\n",
    "\n",
    "    rf_preds_df, accuracy = executeCLF(rf_reg, x_train, y_train, x_test, y_test)\n",
    "    accuracies.append(accuracy * games)\n",
    "        \n",
    "    df[\"GAME_DATE_EST\"] = temp\n",
    "\n",
    "print(\"\\nResults for Random Forest model:\") \n",
    "print(np.sum(accuracies)/total_games)"
   ]
  },
  {
   "cell_type": "code",
   "execution_count": 7,
   "metadata": {},
   "outputs": [],
   "source": [
    "#print(np.array(accuracies)/np.array(games_per_day))"
   ]
  },
  {
   "cell_type": "code",
   "execution_count": 8,
   "metadata": {},
   "outputs": [
    {
     "name": "stderr",
     "output_type": "stream",
     "text": [
      "100%|██████████| 54/54 [00:04<00:00, 12.48it/s]"
     ]
    },
    {
     "name": "stdout",
     "output_type": "stream",
     "text": [
      "\n",
      "Results AdaBoost model:\n",
      "0.6510989010989011\n"
     ]
    },
    {
     "name": "stderr",
     "output_type": "stream",
     "text": [
      "\n"
     ]
    }
   ],
   "source": [
    "# Predicting one day at a time - Random Forest\n",
    "accuracies = []\n",
    "games_per_day = []\n",
    "total_games = 0\n",
    "for date in tqdm(date_list):\n",
    "    test_end = int(df.index[df['GAME_DATE_EST'] == date][-1])\n",
    "    test_start = int(df.index[df['GAME_DATE_EST'] == date][0])\n",
    "    train_end = int(df.index[df['GAME_DATE_EST'] == train_end_val][-1])\n",
    "    train_start = int(df.index[df['GAME_DATE_EST'] == date][-1] + 1)\n",
    "    \n",
    "    games = test_end - test_start\n",
    "    total_games += games\n",
    "    games_per_day.append(games)\n",
    "    \n",
    "    temp = df['GAME_DATE_EST']\n",
    "    df = df.drop(['GAME_DATE_EST'],axis=1)\n",
    "    \n",
    "    y = df['WIN_HOME']\n",
    "    x = df.drop(columns=['WIN_HOME'])\n",
    "    \n",
    "    if test_start == test_end:\n",
    "        x_train, x_test = x.iloc[train_start:train_end], x.iloc[[test_start]]\n",
    "        y_train, y_test = y.iloc[train_start:train_end], y.iloc[[test_start]]\n",
    "    elif train_start == train_end:\n",
    "        x_train, x_test = x.iloc[[train_start]], x.iloc[test_start:test_end]\n",
    "        y_train, y_test = y.iloc[[train_start]], y.iloc[test_start:test_end]\n",
    "    else:\n",
    "        x_train, x_test = x.iloc[train_start:train_end], x.iloc[test_start:test_end]\n",
    "        y_train, y_test = y.iloc[train_start:train_end], y.iloc[test_start:test_end]\n",
    "    \n",
    "    #rf_reg = LogisticRegression(solver='lbfgs')\n",
    "    rf_reg = AdaBoostClassifier(n_estimators=20).fit(x_train.values, y_train.values)\n",
    "    #rf_reg = RandomForestClassifier(n_estimators=20, max_depth=11)\n",
    "\n",
    "    rf_preds_df, accuracy = executeCLF(rf_reg, x_train, y_train, x_test, y_test)\n",
    "    accuracies.append(accuracy * games)\n",
    "        \n",
    "    df[\"GAME_DATE_EST\"] = temp\n",
    "\n",
    "print(\"\\nResults AdaBoost model:\") \n",
    "print(np.sum(accuracies)/total_games)"
   ]
  },
  {
   "cell_type": "code",
   "execution_count": 9,
   "metadata": {},
   "outputs": [],
   "source": [
    "#print(np.array(accuracies)/np.array(games_per_day))"
   ]
  },
  {
   "cell_type": "code",
   "execution_count": 10,
   "metadata": {},
   "outputs": [
    {
     "name": "stderr",
     "output_type": "stream",
     "text": [
      "100%|██████████| 54/54 [01:22<00:00,  1.29s/it]"
     ]
    },
    {
     "name": "stdout",
     "output_type": "stream",
     "text": [
      "\n",
      "Results AdaBoost model:\n",
      "0.6565934065934066\n"
     ]
    },
    {
     "name": "stderr",
     "output_type": "stream",
     "text": [
      "\n"
     ]
    }
   ],
   "source": [
    "# Predicting one day at a time - Random Forest\n",
    "accuracies = []\n",
    "games_per_day = []\n",
    "total_games = 0\n",
    "for date in tqdm(date_list):\n",
    "    test_end = int(df.index[df['GAME_DATE_EST'] == date][-1])\n",
    "    test_start = int(df.index[df['GAME_DATE_EST'] == date][0])\n",
    "    train_end = int(df.index[df['GAME_DATE_EST'] == train_end_val][-1])\n",
    "    train_start = int(df.index[df['GAME_DATE_EST'] == date][-1] + 1)\n",
    "    \n",
    "    games = test_end - test_start\n",
    "    total_games += games\n",
    "    games_per_day.append(games)\n",
    "    \n",
    "    temp = df['GAME_DATE_EST']\n",
    "    df = df.drop(['GAME_DATE_EST'],axis=1)\n",
    "    \n",
    "    y = df['WIN_HOME']\n",
    "    x = df.drop(columns=['WIN_HOME'])\n",
    "    \n",
    "    if test_start == test_end:\n",
    "        x_train, x_test = x.iloc[train_start:train_end], x.iloc[[test_start]]\n",
    "        y_train, y_test = y.iloc[train_start:train_end], y.iloc[[test_start]]\n",
    "    elif train_start == train_end:\n",
    "        x_train, x_test = x.iloc[[train_start]], x.iloc[test_start:test_end]\n",
    "        y_train, y_test = y.iloc[[train_start]], y.iloc[test_start:test_end]\n",
    "    else:\n",
    "        x_train, x_test = x.iloc[train_start:train_end], x.iloc[test_start:test_end]\n",
    "        y_train, y_test = y.iloc[train_start:train_end], y.iloc[test_start:test_end]\n",
    "    \n",
    "    svc = SVC(gamma='auto').fit(x_train.values, y_train.values)\n",
    "\n",
    "    rf_preds_df, accuracy = executeCLF(svc, x_train, y_train, x_test, y_test)\n",
    "    accuracies.append(accuracy * games)\n",
    "        \n",
    "    df[\"GAME_DATE_EST\"] = temp\n",
    "\n",
    "print(\"\\nResults AdaBoost model:\") \n",
    "print(np.sum(accuracies)/total_games)"
   ]
  },
  {
   "cell_type": "code",
   "execution_count": 11,
   "metadata": {},
   "outputs": [],
   "source": [
    "#print(np.array(accuracies)/np.array(games_per_day))"
   ]
  }
 ],
 "metadata": {
  "kernelspec": {
   "display_name": "Python 3",
   "language": "python",
   "name": "python3"
  },
  "language_info": {
   "codemirror_mode": {
    "name": "ipython",
    "version": 3
   },
   "file_extension": ".py",
   "mimetype": "text/x-python",
   "name": "python",
   "nbconvert_exporter": "python",
   "pygments_lexer": "ipython3",
   "version": "3.5.2"
  }
 },
 "nbformat": 4,
 "nbformat_minor": 2
}
